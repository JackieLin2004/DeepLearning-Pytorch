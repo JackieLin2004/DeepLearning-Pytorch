{
 "cells": [
  {
   "cell_type": "code",
   "id": "initial_id",
   "metadata": {
    "collapsed": true,
    "ExecuteTime": {
     "end_time": "2024-09-13T09:28:06.591406Z",
     "start_time": "2024-09-13T09:28:06.024483Z"
    }
   },
   "source": [
    "import torch\n",
    "\n",
    "x = torch.arange(4.0)\n",
    "x"
   ],
   "outputs": [
    {
     "data": {
      "text/plain": [
       "tensor([0., 1., 2., 3.])"
      ]
     },
     "execution_count": 1,
     "metadata": {},
     "output_type": "execute_result"
    }
   ],
   "execution_count": 1
  },
  {
   "metadata": {
    "ExecuteTime": {
     "end_time": "2024-09-13T09:28:44.841264Z",
     "start_time": "2024-09-13T09:28:44.831228Z"
    }
   },
   "cell_type": "code",
   "source": [
    "x.requires_grad_(True)  # 等价于x=torch.arange(4.0,requires_grad=True)\n",
    "x.grad  # 默认值是None"
   ],
   "id": "d9b00c912660aceb",
   "outputs": [],
   "execution_count": 2
  },
  {
   "metadata": {},
   "cell_type": "markdown",
   "source": "x.grad 默认情况下为 None 是因为梯度只有在调用 backward() 之后才会被计算并存储。之前在创建张量 x 时，虽然设置了 requires_grad=True，但还没有进行任何梯度计算。所以，在 y.backward() 之前，x.grad 为空。只有在进行反向传播（backward()）之后，x.grad 才会存储梯度的值。",
   "id": "fb313b49cdd8a070"
  },
  {
   "metadata": {
    "ExecuteTime": {
     "end_time": "2024-09-13T09:29:01.074422Z",
     "start_time": "2024-09-13T09:29:01.047872Z"
    }
   },
   "cell_type": "code",
   "source": [
    "y = 2 * torch.dot(x, x)\n",
    "y"
   ],
   "id": "ad6d8aeaa7cbbb64",
   "outputs": [
    {
     "data": {
      "text/plain": [
       "tensor(28., grad_fn=<MulBackward0>)"
      ]
     },
     "execution_count": 3,
     "metadata": {},
     "output_type": "execute_result"
    }
   ],
   "execution_count": 3
  },
  {
   "metadata": {
    "ExecuteTime": {
     "end_time": "2024-09-13T09:29:37.058182Z",
     "start_time": "2024-09-13T09:29:37.031558Z"
    }
   },
   "cell_type": "code",
   "source": [
    "y.backward()\n",
    "x.grad"
   ],
   "id": "256acbace2ec790d",
   "outputs": [
    {
     "data": {
      "text/plain": [
       "tensor([ 0.,  4.,  8., 12.])"
      ]
     },
     "execution_count": 4,
     "metadata": {},
     "output_type": "execute_result"
    }
   ],
   "execution_count": 4
  },
  {
   "metadata": {},
   "cell_type": "markdown",
   "source": [
    "在这段代码中，我们逐步进行了自动微分计算，最终得到 `x.grad`。\n",
    "\n",
    "1. `x = torch.arange(4.0)`：创建了一个包含 `[0., 1., 2., 3.]` 的张量。\n",
    "2. `x.requires_grad_(True)`：将 `x` 设置为需要计算梯度。\n",
    "3. `y = 2 * torch.dot(x, x)`：计算 `y`，其中 `torch.dot(x, x)` 是 \\(x\\) 和自身的点积，结果是 \\(0^2 + 1^2 + 2^2 + 3^2 = 14\\)。因此 \\(y = 2 \\times 14 = 28\\)。\n",
    "4. `y.backward()`：对 `y` 进行反向传播，计算 \\(x\\) 的梯度。\n",
    "5. `x.grad`：得到 \\(y\\) 对 \\(x\\) 的梯度。由于 \\(y = 2 \\sum x_i^2\\)，所以梯度为 \\(\\frac{\\partial y}{\\partial x_i} = 4x_i\\)，最终结果是 `[0., 4., 8., 12.]`。"
   ],
   "id": "56d8c05202a7aa93"
  },
  {
   "metadata": {
    "ExecuteTime": {
     "end_time": "2024-09-13T09:30:00.607799Z",
     "start_time": "2024-09-13T09:30:00.581283Z"
    }
   },
   "cell_type": "code",
   "source": "x.grad == 4 * x",
   "id": "d42c765faabfd42",
   "outputs": [
    {
     "data": {
      "text/plain": [
       "tensor([True, True, True, True])"
      ]
     },
     "execution_count": 5,
     "metadata": {},
     "output_type": "execute_result"
    }
   ],
   "execution_count": 5
  },
  {
   "metadata": {
    "ExecuteTime": {
     "end_time": "2024-09-13T09:30:29.591506Z",
     "start_time": "2024-09-13T09:30:29.558288Z"
    }
   },
   "cell_type": "code",
   "source": [
    "# 在默认情况下，PyTorch会累积梯度，我们需要清除之前的值\n",
    "x.grad.zero_()\n",
    "y = x.sum()\n",
    "y.backward()\n",
    "x.grad"
   ],
   "id": "41b4582945f870b4",
   "outputs": [
    {
     "data": {
      "text/plain": [
       "tensor([1., 1., 1., 1.])"
      ]
     },
     "execution_count": 6,
     "metadata": {},
     "output_type": "execute_result"
    }
   ],
   "execution_count": 6
  },
  {
   "metadata": {
    "ExecuteTime": {
     "end_time": "2024-09-13T09:31:04.864906Z",
     "start_time": "2024-09-13T09:31:04.848175Z"
    }
   },
   "cell_type": "code",
   "source": [
    "# 对非标量调用backward需要传入一个gradient参数，该参数指定微分函数关于self的梯度。\n",
    "# 本例只想求偏导数的和，所以传递一个1的梯度是合适的\n",
    "x.grad.zero_()\n",
    "y = x * x\n",
    "# 等价于y.backward(torch.ones(len(x)))\n",
    "y.sum().backward()\n",
    "x.grad"
   ],
   "id": "67f63e20f6ec795a",
   "outputs": [
    {
     "data": {
      "text/plain": [
       "tensor([0., 2., 4., 6.])"
      ]
     },
     "execution_count": 7,
     "metadata": {},
     "output_type": "execute_result"
    }
   ],
   "execution_count": 7
  },
  {
   "metadata": {
    "ExecuteTime": {
     "end_time": "2024-09-13T09:31:11.108079Z",
     "start_time": "2024-09-13T09:31:11.081357Z"
    }
   },
   "cell_type": "code",
   "source": [
    "x.grad.zero_()\n",
    "y = x * x\n",
    "u = y.detach()\n",
    "z = u * x\n",
    "\n",
    "z.sum().backward()\n",
    "x.grad == u"
   ],
   "id": "ae169037e7599ced",
   "outputs": [
    {
     "data": {
      "text/plain": [
       "tensor([True, True, True, True])"
      ]
     },
     "execution_count": 8,
     "metadata": {},
     "output_type": "execute_result"
    }
   ],
   "execution_count": 8
  },
  {
   "metadata": {
    "ExecuteTime": {
     "end_time": "2024-09-13T09:31:15.124879Z",
     "start_time": "2024-09-13T09:31:15.108121Z"
    }
   },
   "cell_type": "code",
   "source": [
    "x.grad.zero_()\n",
    "y.sum().backward()\n",
    "x.grad == 2 * x"
   ],
   "id": "c2d0a60b93526416",
   "outputs": [
    {
     "data": {
      "text/plain": [
       "tensor([True, True, True, True])"
      ]
     },
     "execution_count": 9,
     "metadata": {},
     "output_type": "execute_result"
    }
   ],
   "execution_count": 9
  },
  {
   "metadata": {
    "ExecuteTime": {
     "end_time": "2024-09-13T09:31:21.898097Z",
     "start_time": "2024-09-13T09:31:21.891464Z"
    }
   },
   "cell_type": "code",
   "source": [
    "def f(a):\n",
    "    b = a * 2\n",
    "    while b.norm() < 1000:\n",
    "        b = b * 2\n",
    "    if b.sum() > 0:\n",
    "        c = b\n",
    "    else:\n",
    "        c = 100 * b\n",
    "    return c"
   ],
   "id": "d07625286e62c88e",
   "outputs": [],
   "execution_count": 10
  },
  {
   "metadata": {
    "ExecuteTime": {
     "end_time": "2024-09-13T09:31:25.924998Z",
     "start_time": "2024-09-13T09:31:25.908188Z"
    }
   },
   "cell_type": "code",
   "source": [
    "a = torch.randn(size=(), requires_grad=True)\n",
    "d = f(a)\n",
    "d.backward()"
   ],
   "id": "2a64555f1a11a597",
   "outputs": [],
   "execution_count": 11
  },
  {
   "metadata": {
    "ExecuteTime": {
     "end_time": "2024-09-13T09:31:29.758103Z",
     "start_time": "2024-09-13T09:31:29.747997Z"
    }
   },
   "cell_type": "code",
   "source": "a.grad == d / a",
   "id": "3013e96943526055",
   "outputs": [
    {
     "data": {
      "text/plain": [
       "tensor(True)"
      ]
     },
     "execution_count": 12,
     "metadata": {},
     "output_type": "execute_result"
    }
   ],
   "execution_count": 12
  },
  {
   "metadata": {},
   "cell_type": "code",
   "outputs": [],
   "execution_count": null,
   "source": "",
   "id": "5a1daa3049b5c5b"
  }
 ],
 "metadata": {
  "kernelspec": {
   "display_name": "Python 3",
   "language": "python",
   "name": "python3"
  },
  "language_info": {
   "codemirror_mode": {
    "name": "ipython",
    "version": 2
   },
   "file_extension": ".py",
   "mimetype": "text/x-python",
   "name": "python",
   "nbconvert_exporter": "python",
   "pygments_lexer": "ipython2",
   "version": "2.7.6"
  }
 },
 "nbformat": 4,
 "nbformat_minor": 5
}
