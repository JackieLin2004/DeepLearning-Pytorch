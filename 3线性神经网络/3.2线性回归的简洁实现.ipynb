{
 "cells": [
  {
   "cell_type": "code",
   "id": "initial_id",
   "metadata": {
    "collapsed": true,
    "ExecuteTime": {
     "end_time": "2024-09-14T06:08:08.191100Z",
     "start_time": "2024-09-14T06:08:06.237575Z"
    }
   },
   "source": [
    "import torch\n",
    "from torch.utils import data\n",
    "from d2l import torch as d2l\n",
    "\n",
    "true_w = torch.tensor([2, -3.4])\n",
    "true_b = 4.2\n",
    "features, labels = d2l.synthetic_data(true_w, true_b, 1000)"
   ],
   "outputs": [],
   "execution_count": 1
  },
  {
   "metadata": {
    "ExecuteTime": {
     "end_time": "2024-09-14T06:08:42.456666Z",
     "start_time": "2024-09-14T06:08:42.433008Z"
    }
   },
   "cell_type": "code",
   "source": [
    "def load_array(data_arrays, batch_size, is_train=True):  #@save\n",
    "    \"\"\"构造一个PyTorch数据迭代器\"\"\"\n",
    "    dataset = data.TensorDataset(*data_arrays)\n",
    "    return data.DataLoader(dataset, batch_size, shuffle=is_train)\n",
    "\n",
    "batch_size = 10\n",
    "data_iter = load_array((features, labels), batch_size)"
   ],
   "id": "f52b0132faf2bb78",
   "outputs": [],
   "execution_count": 2
  },
  {
   "metadata": {
    "ExecuteTime": {
     "end_time": "2024-09-14T06:08:52.980314Z",
     "start_time": "2024-09-14T06:08:52.894348Z"
    }
   },
   "cell_type": "code",
   "source": "next(iter(data_iter))",
   "id": "395421e0d1cf81e8",
   "outputs": [
    {
     "data": {
      "text/plain": [
       "[tensor([[-0.8978, -1.4110],\n",
       "         [-1.1535,  0.2064],\n",
       "         [ 0.5570,  0.8034],\n",
       "         [ 1.3769, -0.3266],\n",
       "         [ 0.1785, -1.6326],\n",
       "         [-0.3889,  0.5642],\n",
       "         [ 0.6927,  0.2933],\n",
       "         [ 0.0287,  2.4436],\n",
       "         [ 0.5703,  0.0904],\n",
       "         [-0.2383, -1.9097]]),\n",
       " tensor([[ 7.1889],\n",
       "         [ 1.1975],\n",
       "         [ 2.5879],\n",
       "         [ 8.0659],\n",
       "         [10.1019],\n",
       "         [ 1.4903],\n",
       "         [ 4.5795],\n",
       "         [-4.0542],\n",
       "         [ 5.0355],\n",
       "         [10.2263]])]"
      ]
     },
     "execution_count": 3,
     "metadata": {},
     "output_type": "execute_result"
    }
   ],
   "execution_count": 3
  },
  {
   "metadata": {
    "ExecuteTime": {
     "end_time": "2024-09-14T06:09:10.786872Z",
     "start_time": "2024-09-14T06:09:10.719138Z"
    }
   },
   "cell_type": "code",
   "source": [
    "# nn是神经网络的缩写\n",
    "from torch import nn\n",
    "\n",
    "net = nn.Sequential(nn.Linear(2, 1))"
   ],
   "id": "706514558e00fe4d",
   "outputs": [],
   "execution_count": 4
  },
  {
   "metadata": {
    "ExecuteTime": {
     "end_time": "2024-09-14T06:09:26.794316Z",
     "start_time": "2024-09-14T06:09:26.727451Z"
    }
   },
   "cell_type": "code",
   "source": [
    "net[0].weight.data.normal_(0, 0.01)\n",
    "net[0].bias.data.fill_(0)"
   ],
   "id": "91432fd25a9824b",
   "outputs": [
    {
     "data": {
      "text/plain": [
       "tensor([0.])"
      ]
     },
     "execution_count": 5,
     "metadata": {},
     "output_type": "execute_result"
    }
   ],
   "execution_count": 5
  },
  {
   "metadata": {
    "ExecuteTime": {
     "end_time": "2024-09-14T06:09:38.513717Z",
     "start_time": "2024-09-14T06:09:38.505108Z"
    }
   },
   "cell_type": "code",
   "source": "loss = nn.MSELoss()",
   "id": "c7e88ffa0871e374",
   "outputs": [],
   "execution_count": 6
  },
  {
   "metadata": {
    "ExecuteTime": {
     "end_time": "2024-09-14T06:09:46.301524Z",
     "start_time": "2024-09-14T06:09:46.282409Z"
    }
   },
   "cell_type": "code",
   "source": "trainer = torch.optim.SGD(net.parameters(), lr=0.03)",
   "id": "71c68c904b3f21cc",
   "outputs": [],
   "execution_count": 7
  },
  {
   "metadata": {
    "ExecuteTime": {
     "end_time": "2024-09-14T06:09:51.804458Z",
     "start_time": "2024-09-14T06:09:51.644920Z"
    }
   },
   "cell_type": "code",
   "source": [
    "num_epochs = 3\n",
    "for epoch in range(num_epochs):\n",
    "    for X, y in data_iter:\n",
    "        l = loss(net(X) ,y)\n",
    "        trainer.zero_grad()\n",
    "        l.backward()\n",
    "        trainer.step()\n",
    "    l = loss(net(features), labels)\n",
    "    print(f'epoch {epoch + 1}, loss {l:f}')"
   ],
   "id": "d9dde58e634b0d70",
   "outputs": [
    {
     "name": "stdout",
     "output_type": "stream",
     "text": [
      "epoch 1, loss 0.000267\n",
      "epoch 2, loss 0.000096\n",
      "epoch 3, loss 0.000096\n"
     ]
    }
   ],
   "execution_count": 8
  },
  {
   "metadata": {
    "ExecuteTime": {
     "end_time": "2024-09-14T06:10:06.391679Z",
     "start_time": "2024-09-14T06:10:06.385319Z"
    }
   },
   "cell_type": "code",
   "source": [
    "w = net[0].weight.data\n",
    "print('w的估计误差：', true_w - w.reshape(true_w.shape))\n",
    "b = net[0].bias.data\n",
    "print('b的估计误差：', true_b - b)"
   ],
   "id": "37993cf83466e5b4",
   "outputs": [
    {
     "name": "stdout",
     "output_type": "stream",
     "text": [
      "w的估计误差： tensor([0.0004, 0.0009])\n",
      "b的估计误差： tensor([-0.0002])\n"
     ]
    }
   ],
   "execution_count": 9
  },
  {
   "metadata": {},
   "cell_type": "code",
   "outputs": [],
   "execution_count": null,
   "source": "",
   "id": "2345ae4ed3caa60e"
  }
 ],
 "metadata": {
  "kernelspec": {
   "display_name": "Python 3",
   "language": "python",
   "name": "python3"
  },
  "language_info": {
   "codemirror_mode": {
    "name": "ipython",
    "version": 2
   },
   "file_extension": ".py",
   "mimetype": "text/x-python",
   "name": "python",
   "nbconvert_exporter": "python",
   "pygments_lexer": "ipython2",
   "version": "2.7.6"
  }
 },
 "nbformat": 4,
 "nbformat_minor": 5
}
