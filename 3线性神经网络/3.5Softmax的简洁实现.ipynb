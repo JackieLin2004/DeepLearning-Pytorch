{
 "cells": [
  {
   "cell_type": "code",
   "id": "initial_id",
   "metadata": {
    "collapsed": true,
    "ExecuteTime": {
     "end_time": "2024-09-18T14:04:26.736427Z",
     "start_time": "2024-09-18T14:04:25.266182Z"
    }
   },
   "source": [
    "import torch\n",
    "from torch import nn\n",
    "from d2l import torch as d2l\n",
    "\n",
    "batch_size = 256\n",
    "train_iter, test_iter = d2l.load_data_fashion_mnist(batch_size)"
   ],
   "outputs": [],
   "execution_count": 1
  },
  {
   "metadata": {},
   "cell_type": "markdown",
   "source": [
    "nn.Flatten() 是 PyTorch 中的展平层，它将输入的多维张量（如图像的高、宽、通道等）展平为一维向量。\n",
    "\n",
    "这个操作是必要的，因为全连接（nn.Linear）期望输入是一维的向量。\n",
    "\n",
    "函数 init_weights 用于对模型中的权重进行初始化。\n",
    "\n",
    "它检查每个模块 m 是否是 nn.Linear 层。如果是，它使用 nn.init.normal_ 方法将线性层的权重初始化为一个从均值为 0，标准差为 0.01 的正态分布中随机抽取的值。"
   ],
   "id": "518e71d0a0633e17"
  },
  {
   "metadata": {
    "ExecuteTime": {
     "end_time": "2024-09-18T14:04:26.746319Z",
     "start_time": "2024-09-18T14:04:26.736427Z"
    }
   },
   "cell_type": "code",
   "source": [
    "# PyTorch不会隐式地调整输入的形状。因此，\n",
    "# 我们在线性层前定义了展平层（flatten），来调整网络输入的形状\n",
    "net = nn.Sequential(nn.Flatten(), nn.Linear(784, 10))\n",
    "\n",
    "def init_weights(m):\n",
    "    if type(m) == nn.Linear:\n",
    "        nn.init.normal_(m.weight, std=0.01)\n",
    "\n",
    "net.apply(init_weights);"
   ],
   "id": "14128fb99963c6b5",
   "outputs": [],
   "execution_count": 2
  },
  {
   "metadata": {
    "ExecuteTime": {
     "end_time": "2024-09-18T14:04:26.766399Z",
     "start_time": "2024-09-18T14:04:26.746319Z"
    }
   },
   "cell_type": "code",
   "source": "loss = nn.CrossEntropyLoss(reduction='none')",
   "id": "34b698cd9c159cfa",
   "outputs": [],
   "execution_count": 3
  },
  {
   "metadata": {
    "ExecuteTime": {
     "end_time": "2024-09-18T14:04:26.776331Z",
     "start_time": "2024-09-18T14:04:26.766399Z"
    }
   },
   "cell_type": "code",
   "source": "trainer = torch.optim.SGD(net.parameters(), lr=0.1)",
   "id": "ad0a607a6c5e9c82",
   "outputs": [],
   "execution_count": 4
  },
  {
   "metadata": {},
   "cell_type": "code",
   "source": [
    "num_epochs = 10\n",
    "d2l.train_ch3(net, train_iter, test_iter, loss, num_epochs, trainer)"
   ],
   "id": "746dd6c5c731d04c",
   "execution_count": 5,
   "outputs": []
  },
  {
   "metadata": {
    "ExecuteTime": {
     "end_time": "2024-09-18T14:05:16.006306Z",
     "start_time": "2024-09-18T14:05:15.996215Z"
    }
   },
   "cell_type": "code",
   "source": "",
   "id": "4611481939259b57",
   "outputs": [],
   "execution_count": 5
  }
 ],
 "metadata": {
  "kernelspec": {
   "display_name": "Python 3",
   "language": "python",
   "name": "python3"
  },
  "language_info": {
   "codemirror_mode": {
    "name": "ipython",
    "version": 2
   },
   "file_extension": ".py",
   "mimetype": "text/x-python",
   "name": "python",
   "nbconvert_exporter": "python",
   "pygments_lexer": "ipython2",
   "version": "2.7.6"
  }
 },
 "nbformat": 4,
 "nbformat_minor": 5
}
