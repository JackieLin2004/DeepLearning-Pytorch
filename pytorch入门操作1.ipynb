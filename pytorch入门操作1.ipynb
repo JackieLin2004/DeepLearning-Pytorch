{
 "cells": [
  {
   "cell_type": "code",
   "id": "initial_id",
   "metadata": {
    "collapsed": true,
    "ExecuteTime": {
     "end_time": "2024-09-11T12:27:13.692190Z",
     "start_time": "2024-09-11T12:27:13.668162Z"
    }
   },
   "source": [
    "import sys\n",
    "sys.version"
   ],
   "outputs": [
    {
     "data": {
      "text/plain": [
       "'3.9.19 | packaged by conda-forge | (main, Mar 20 2024, 12:38:46) [MSC v.1929 64 bit (AMD64)]'"
      ]
     },
     "execution_count": 1,
     "metadata": {},
     "output_type": "execute_result"
    }
   ],
   "execution_count": 1
  },
  {
   "metadata": {
    "ExecuteTime": {
     "end_time": "2024-09-11T12:27:42.382255Z",
     "start_time": "2024-09-11T12:27:41.727134Z"
    }
   },
   "cell_type": "code",
   "source": [
    "import torch\n",
    "torch.__version__"
   ],
   "id": "8811040587fa5834",
   "outputs": [
    {
     "data": {
      "text/plain": [
       "'1.12.0'"
      ]
     },
     "execution_count": 2,
     "metadata": {},
     "output_type": "execute_result"
    }
   ],
   "execution_count": 2
  },
  {
   "metadata": {
    "ExecuteTime": {
     "end_time": "2024-09-11T12:28:17.375157Z",
     "start_time": "2024-09-11T12:28:17.356153Z"
    }
   },
   "cell_type": "code",
   "source": [
    "t1 = torch.tensor([1, 2, 3])\n",
    "t1"
   ],
   "id": "c9bd8dbaedcd1f2",
   "outputs": [
    {
     "data": {
      "text/plain": [
       "tensor([1, 2, 3])"
      ]
     },
     "execution_count": 4,
     "metadata": {},
     "output_type": "execute_result"
    }
   ],
   "execution_count": 4
  },
  {
   "metadata": {
    "ExecuteTime": {
     "end_time": "2024-09-11T12:29:12.985355Z",
     "start_time": "2024-09-11T12:29:12.980355Z"
    }
   },
   "cell_type": "code",
   "source": [
    "import numpy as np\n",
    "array1 = np.arange(12).reshape(3, 4)\n",
    "array1"
   ],
   "id": "a6812984a2e99517",
   "outputs": [
    {
     "data": {
      "text/plain": [
       "array([[ 0,  1,  2,  3],\n",
       "       [ 4,  5,  6,  7],\n",
       "       [ 8,  9, 10, 11]])"
      ]
     },
     "execution_count": 5,
     "metadata": {},
     "output_type": "execute_result"
    }
   ],
   "execution_count": 5
  },
  {
   "metadata": {
    "ExecuteTime": {
     "end_time": "2024-09-11T12:29:33.510100Z",
     "start_time": "2024-09-11T12:29:33.478101Z"
    }
   },
   "cell_type": "code",
   "source": [
    "t2 = torch.tensor(array1)\n",
    "t2"
   ],
   "id": "c227343880a31ca9",
   "outputs": [
    {
     "data": {
      "text/plain": [
       "tensor([[ 0,  1,  2,  3],\n",
       "        [ 4,  5,  6,  7],\n",
       "        [ 8,  9, 10, 11]], dtype=torch.int32)"
      ]
     },
     "execution_count": 6,
     "metadata": {},
     "output_type": "execute_result"
    }
   ],
   "execution_count": 6
  },
  {
   "metadata": {
    "ExecuteTime": {
     "end_time": "2024-09-11T12:30:47.096688Z",
     "start_time": "2024-09-11T12:30:47.059456Z"
    }
   },
   "cell_type": "code",
   "source": [
    "# 空数组\n",
    "torch.empty([3, 4])"
   ],
   "id": "2a4533205832058e",
   "outputs": [
    {
     "data": {
      "text/plain": [
       "tensor([[0., 0., 0., 0.],\n",
       "        [0., 0., 0., 0.],\n",
       "        [0., 0., 0., 0.]])"
      ]
     },
     "execution_count": 7,
     "metadata": {},
     "output_type": "execute_result"
    }
   ],
   "execution_count": 7
  },
  {
   "metadata": {
    "ExecuteTime": {
     "end_time": "2024-09-11T12:30:59.386788Z",
     "start_time": "2024-09-11T12:30:59.356835Z"
    }
   },
   "cell_type": "code",
   "source": [
    "# 全为1的数组\n",
    "torch.ones([3, 4])"
   ],
   "id": "52c8a700e96ea607",
   "outputs": [
    {
     "data": {
      "text/plain": [
       "tensor([[1., 1., 1., 1.],\n",
       "        [1., 1., 1., 1.],\n",
       "        [1., 1., 1., 1.]])"
      ]
     },
     "execution_count": 8,
     "metadata": {},
     "output_type": "execute_result"
    }
   ],
   "execution_count": 8
  },
  {
   "metadata": {
    "ExecuteTime": {
     "end_time": "2024-09-11T12:31:16.503225Z",
     "start_time": "2024-09-11T12:31:16.490226Z"
    }
   },
   "cell_type": "code",
   "source": [
    "# 全为0的数组\n",
    "torch.zeros([3, 4])"
   ],
   "id": "9126145b7bc46a56",
   "outputs": [
    {
     "data": {
      "text/plain": [
       "tensor([[0., 0., 0., 0.],\n",
       "        [0., 0., 0., 0.],\n",
       "        [0., 0., 0., 0.]])"
      ]
     },
     "execution_count": 9,
     "metadata": {},
     "output_type": "execute_result"
    }
   ],
   "execution_count": 9
  },
  {
   "metadata": {
    "ExecuteTime": {
     "end_time": "2024-09-11T12:31:51.862428Z",
     "start_time": "2024-09-11T12:31:51.847426Z"
    }
   },
   "cell_type": "code",
   "source": [
    "# 给定范围的随机数\n",
    "torch.randint(low=0, high=10, size=[3, 4])"
   ],
   "id": "3e23f65330422c82",
   "outputs": [
    {
     "data": {
      "text/plain": [
       "tensor([[7, 0, 6, 5],\n",
       "        [3, 1, 9, 7],\n",
       "        [4, 3, 1, 0]])"
      ]
     },
     "execution_count": 10,
     "metadata": {},
     "output_type": "execute_result"
    }
   ],
   "execution_count": 10
  },
  {
   "metadata": {
    "ExecuteTime": {
     "end_time": "2024-09-11T12:32:05.807912Z",
     "start_time": "2024-09-11T12:32:05.789005Z"
    }
   },
   "cell_type": "code",
   "source": [
    "# 0到1的随机数\n",
    "torch.rand([3, 4])"
   ],
   "id": "8ece1f3959c539e8",
   "outputs": [
    {
     "data": {
      "text/plain": [
       "tensor([[0.2484, 0.9715, 0.0735, 0.2107],\n",
       "        [0.1994, 0.6661, 0.7921, 0.5672],\n",
       "        [0.9025, 0.4343, 0.3549, 0.4757]])"
      ]
     },
     "execution_count": 11,
     "metadata": {},
     "output_type": "execute_result"
    }
   ],
   "execution_count": 11
  },
  {
   "metadata": {
    "ExecuteTime": {
     "end_time": "2024-09-11T12:35:10.356035Z",
     "start_time": "2024-09-11T12:35:10.340035Z"
    }
   },
   "cell_type": "code",
   "source": [
    "# 当tensor里面只有一个元素的时候，可以直接用item方法取出来，多个元素不能这样子用\n",
    "torch.tensor([3]).item()"
   ],
   "id": "4e235a592276d1b4",
   "outputs": [
    {
     "data": {
      "text/plain": [
       "3"
      ]
     },
     "execution_count": 12,
     "metadata": {},
     "output_type": "execute_result"
    }
   ],
   "execution_count": 12
  },
  {
   "metadata": {
    "ExecuteTime": {
     "end_time": "2024-09-11T12:35:38.875609Z",
     "start_time": "2024-09-11T12:35:38.855731Z"
    }
   },
   "cell_type": "code",
   "source": "t2.numpy()",
   "id": "2266cad63d5d70f7",
   "outputs": [
    {
     "data": {
      "text/plain": [
       "array([[ 0,  1,  2,  3],\n",
       "       [ 4,  5,  6,  7],\n",
       "       [ 8,  9, 10, 11]])"
      ]
     },
     "execution_count": 13,
     "metadata": {},
     "output_type": "execute_result"
    }
   ],
   "execution_count": 13
  },
  {
   "metadata": {
    "ExecuteTime": {
     "end_time": "2024-09-11T12:35:58.566227Z",
     "start_time": "2024-09-11T12:35:58.549228Z"
    }
   },
   "cell_type": "code",
   "source": "t2.size()",
   "id": "c810f9161c1992e5",
   "outputs": [
    {
     "data": {
      "text/plain": [
       "torch.Size([3, 4])"
      ]
     },
     "execution_count": 14,
     "metadata": {},
     "output_type": "execute_result"
    }
   ],
   "execution_count": 14
  },
  {
   "metadata": {
    "ExecuteTime": {
     "end_time": "2024-09-11T12:36:12.183172Z",
     "start_time": "2024-09-11T12:36:12.178172Z"
    }
   },
   "cell_type": "code",
   "source": "t2.size(1)",
   "id": "da8541f70eecfc56",
   "outputs": [
    {
     "data": {
      "text/plain": [
       "4"
      ]
     },
     "execution_count": 15,
     "metadata": {},
     "output_type": "execute_result"
    }
   ],
   "execution_count": 15
  },
  {
   "metadata": {
    "ExecuteTime": {
     "end_time": "2024-09-11T12:36:59.074892Z",
     "start_time": "2024-09-11T12:36:59.057893Z"
    }
   },
   "cell_type": "code",
   "source": [
    "t3 = torch.arange(12)\n",
    "t3"
   ],
   "id": "54d8bd0952e01987",
   "outputs": [
    {
     "data": {
      "text/plain": [
       "tensor([ 0,  1,  2,  3,  4,  5,  6,  7,  8,  9, 10, 11])"
      ]
     },
     "execution_count": 16,
     "metadata": {},
     "output_type": "execute_result"
    }
   ],
   "execution_count": 16
  },
  {
   "metadata": {
    "ExecuteTime": {
     "end_time": "2024-09-11T12:38:42.553510Z",
     "start_time": "2024-09-11T12:38:42.533424Z"
    }
   },
   "cell_type": "code",
   "source": "t3.view(3, 4)",
   "id": "561bdfe3eca4c70",
   "outputs": [
    {
     "data": {
      "text/plain": [
       "tensor([[ 0,  1,  2,  3],\n",
       "        [ 4,  5,  6,  7],\n",
       "        [ 8,  9, 10, 11]])"
      ]
     },
     "execution_count": 17,
     "metadata": {},
     "output_type": "execute_result"
    }
   ],
   "execution_count": 17
  },
  {
   "metadata": {
    "ExecuteTime": {
     "end_time": "2024-09-11T12:38:59.983735Z",
     "start_time": "2024-09-11T12:38:59.978733Z"
    }
   },
   "cell_type": "code",
   "source": [
    "# -1表示根据前面的来确定，保证乘积一样即可\n",
    "t3.view(2, -1)"
   ],
   "id": "e31aeeebb82a1e60",
   "outputs": [
    {
     "data": {
      "text/plain": [
       "tensor([[ 0,  1,  2,  3,  4,  5],\n",
       "        [ 6,  7,  8,  9, 10, 11]])"
      ]
     },
     "execution_count": 18,
     "metadata": {},
     "output_type": "execute_result"
    }
   ],
   "execution_count": 18
  },
  {
   "metadata": {
    "ExecuteTime": {
     "end_time": "2024-09-11T12:39:23.841119Z",
     "start_time": "2024-09-11T12:39:23.829022Z"
    }
   },
   "cell_type": "code",
   "source": [
    "# view是浅拷贝，不影响本来的\n",
    "t3"
   ],
   "id": "97ed3dff38caeb78",
   "outputs": [
    {
     "data": {
      "text/plain": [
       "tensor([ 0,  1,  2,  3,  4,  5,  6,  7,  8,  9, 10, 11])"
      ]
     },
     "execution_count": 19,
     "metadata": {},
     "output_type": "execute_result"
    }
   ],
   "execution_count": 19
  },
  {
   "metadata": {
    "ExecuteTime": {
     "end_time": "2024-09-11T12:39:48.006051Z",
     "start_time": "2024-09-11T12:39:47.987129Z"
    }
   },
   "cell_type": "code",
   "source": "t3.dim()",
   "id": "127d989af8c768a3",
   "outputs": [
    {
     "data": {
      "text/plain": [
       "1"
      ]
     },
     "execution_count": 20,
     "metadata": {},
     "output_type": "execute_result"
    }
   ],
   "execution_count": 20
  },
  {
   "metadata": {
    "ExecuteTime": {
     "end_time": "2024-09-11T12:40:05.881533Z",
     "start_time": "2024-09-11T12:40:05.870534Z"
    }
   },
   "cell_type": "code",
   "source": "t3.view(3, 4).dim()",
   "id": "2112764539ad87ba",
   "outputs": [
    {
     "data": {
      "text/plain": [
       "2"
      ]
     },
     "execution_count": 21,
     "metadata": {},
     "output_type": "execute_result"
    }
   ],
   "execution_count": 21
  },
  {
   "metadata": {
    "ExecuteTime": {
     "end_time": "2024-09-11T12:40:18.163059Z",
     "start_time": "2024-09-11T12:40:18.145035Z"
    }
   },
   "cell_type": "code",
   "source": "t3.reshape([3, 4]).dim()",
   "id": "6a6a6a6c5210afb2",
   "outputs": [
    {
     "data": {
      "text/plain": [
       "2"
      ]
     },
     "execution_count": 22,
     "metadata": {},
     "output_type": "execute_result"
    }
   ],
   "execution_count": 22
  },
  {
   "metadata": {
    "ExecuteTime": {
     "end_time": "2024-09-11T12:40:29.474789Z",
     "start_time": "2024-09-11T12:40:29.459790Z"
    }
   },
   "cell_type": "code",
   "source": "t3.max()",
   "id": "bafbb856024480f3",
   "outputs": [
    {
     "data": {
      "text/plain": [
       "tensor(11)"
      ]
     },
     "execution_count": 23,
     "metadata": {},
     "output_type": "execute_result"
    }
   ],
   "execution_count": 23
  },
  {
   "metadata": {
    "ExecuteTime": {
     "end_time": "2024-09-11T12:40:34.490142Z",
     "start_time": "2024-09-11T12:40:34.470142Z"
    }
   },
   "cell_type": "code",
   "source": "t3.min()",
   "id": "b57e694563ef53b6",
   "outputs": [
    {
     "data": {
      "text/plain": [
       "tensor(0)"
      ]
     },
     "execution_count": 24,
     "metadata": {},
     "output_type": "execute_result"
    }
   ],
   "execution_count": 24
  },
  {
   "metadata": {
    "ExecuteTime": {
     "end_time": "2024-09-11T12:42:38.974052Z",
     "start_time": "2024-09-11T12:42:38.956062Z"
    }
   },
   "cell_type": "code",
   "source": [
    "# 求标准差\n",
    "t3.float().std()"
   ],
   "id": "e7a62d99635dfd77",
   "outputs": [
    {
     "data": {
      "text/plain": [
       "tensor(3.6056)"
      ]
     },
     "execution_count": 27,
     "metadata": {},
     "output_type": "execute_result"
    }
   ],
   "execution_count": 27
  },
  {
   "metadata": {
    "ExecuteTime": {
     "end_time": "2024-09-11T12:42:58.369258Z",
     "start_time": "2024-09-11T12:42:58.339772Z"
    }
   },
   "cell_type": "code",
   "source": "t3.reshape([3, 4]).t()",
   "id": "9d915b3965ca1ba4",
   "outputs": [
    {
     "data": {
      "text/plain": [
       "tensor([[ 0,  4,  8],\n",
       "        [ 1,  5,  9],\n",
       "        [ 2,  6, 10],\n",
       "        [ 3,  7, 11]])"
      ]
     },
     "execution_count": 28,
     "metadata": {},
     "output_type": "execute_result"
    }
   ],
   "execution_count": 28
  },
  {
   "metadata": {
    "ExecuteTime": {
     "end_time": "2024-09-11T12:44:03.638483Z",
     "start_time": "2024-09-11T12:44:03.624914Z"
    }
   },
   "cell_type": "code",
   "source": [
    "from torch import float32\n",
    "\n",
    "t4 = torch.tensor(np.arange(24).reshape(2, 3, 4), dtype=float32)\n",
    "t4"
   ],
   "id": "3dea825005ad8ccb",
   "outputs": [
    {
     "data": {
      "text/plain": [
       "tensor([[[ 0.,  1.,  2.,  3.],\n",
       "         [ 4.,  5.,  6.,  7.],\n",
       "         [ 8.,  9., 10., 11.]],\n",
       "\n",
       "        [[12., 13., 14., 15.],\n",
       "         [16., 17., 18., 19.],\n",
       "         [20., 21., 22., 23.]]])"
      ]
     },
     "execution_count": 30,
     "metadata": {},
     "output_type": "execute_result"
    }
   ],
   "execution_count": 30
  },
  {
   "metadata": {
    "ExecuteTime": {
     "end_time": "2024-09-11T12:44:29.043511Z",
     "start_time": "2024-09-11T12:44:29.033521Z"
    }
   },
   "cell_type": "code",
   "source": "t4.dtype",
   "id": "63c006903253bbfb",
   "outputs": [
    {
     "data": {
      "text/plain": [
       "torch.float32"
      ]
     },
     "execution_count": 32,
     "metadata": {},
     "output_type": "execute_result"
    }
   ],
   "execution_count": 32
  },
  {
   "metadata": {
    "ExecuteTime": {
     "end_time": "2024-09-11T12:45:49.455098Z",
     "start_time": "2024-09-11T12:45:49.443062Z"
    }
   },
   "cell_type": "code",
   "source": [
    "# 3x2x4\n",
    "t4.transpose(0, 1)"
   ],
   "id": "77dc95fa4a632a6e",
   "outputs": [
    {
     "data": {
      "text/plain": [
       "tensor([[[ 0.,  1.,  2.,  3.],\n",
       "         [12., 13., 14., 15.]],\n",
       "\n",
       "        [[ 4.,  5.,  6.,  7.],\n",
       "         [16., 17., 18., 19.]],\n",
       "\n",
       "        [[ 8.,  9., 10., 11.],\n",
       "         [20., 21., 22., 23.]]])"
      ]
     },
     "execution_count": 33,
     "metadata": {},
     "output_type": "execute_result"
    }
   ],
   "execution_count": 33
  },
  {
   "metadata": {
    "ExecuteTime": {
     "end_time": "2024-09-11T12:48:11.174975Z",
     "start_time": "2024-09-11T12:48:11.166968Z"
    }
   },
   "cell_type": "code",
   "source": [
    "# 4x3x2\n",
    "t4.transpose(0, 2)"
   ],
   "id": "c0b7d1511bbc4e7b",
   "outputs": [
    {
     "data": {
      "text/plain": [
       "tensor([[[ 0., 12.],\n",
       "         [ 4., 16.],\n",
       "         [ 8., 20.]],\n",
       "\n",
       "        [[ 1., 13.],\n",
       "         [ 5., 17.],\n",
       "         [ 9., 21.]],\n",
       "\n",
       "        [[ 2., 14.],\n",
       "         [ 6., 18.],\n",
       "         [10., 22.]],\n",
       "\n",
       "        [[ 3., 15.],\n",
       "         [ 7., 19.],\n",
       "         [11., 23.]]])"
      ]
     },
     "execution_count": 34,
     "metadata": {},
     "output_type": "execute_result"
    }
   ],
   "execution_count": 34
  },
  {
   "metadata": {
    "ExecuteTime": {
     "end_time": "2024-09-11T12:49:32.657834Z",
     "start_time": "2024-09-11T12:49:32.646828Z"
    }
   },
   "cell_type": "code",
   "source": [
    "# 2x4x3\n",
    "t4.transpose(1, 2)"
   ],
   "id": "e36a99db938e702",
   "outputs": [
    {
     "data": {
      "text/plain": [
       "tensor([[[ 0.,  4.,  8.],\n",
       "         [ 1.,  5.,  9.],\n",
       "         [ 2.,  6., 10.],\n",
       "         [ 3.,  7., 11.]],\n",
       "\n",
       "        [[12., 16., 20.],\n",
       "         [13., 17., 21.],\n",
       "         [14., 18., 22.],\n",
       "         [15., 19., 23.]]])"
      ]
     },
     "execution_count": 35,
     "metadata": {},
     "output_type": "execute_result"
    }
   ],
   "execution_count": 35
  },
  {
   "metadata": {
    "ExecuteTime": {
     "end_time": "2024-09-11T12:50:19.217636Z",
     "start_time": "2024-09-11T12:50:19.198582Z"
    }
   },
   "cell_type": "code",
   "source": [
    "# t4\n",
    "t4.permute(0, 1, 2)"
   ],
   "id": "96db3a139e6a9e41",
   "outputs": [
    {
     "data": {
      "text/plain": [
       "tensor([[[ 0.,  1.,  2.,  3.],\n",
       "         [ 4.,  5.,  6.,  7.],\n",
       "         [ 8.,  9., 10., 11.]],\n",
       "\n",
       "        [[12., 13., 14., 15.],\n",
       "         [16., 17., 18., 19.],\n",
       "         [20., 21., 22., 23.]]])"
      ]
     },
     "execution_count": 36,
     "metadata": {},
     "output_type": "execute_result"
    }
   ],
   "execution_count": 36
  },
  {
   "metadata": {
    "ExecuteTime": {
     "end_time": "2024-09-11T12:50:44.857939Z",
     "start_time": "2024-09-11T12:50:44.850945Z"
    }
   },
   "cell_type": "code",
   "source": [
    "# # 3x2x4\n",
    "t4.permute(1, 0, 2)"
   ],
   "id": "45eb58d6f643a72a",
   "outputs": [
    {
     "data": {
      "text/plain": [
       "tensor([[[ 0.,  1.,  2.,  3.],\n",
       "         [12., 13., 14., 15.]],\n",
       "\n",
       "        [[ 4.,  5.,  6.,  7.],\n",
       "         [16., 17., 18., 19.]],\n",
       "\n",
       "        [[ 8.,  9., 10., 11.],\n",
       "         [20., 21., 22., 23.]]])"
      ]
     },
     "execution_count": 37,
     "metadata": {},
     "output_type": "execute_result"
    }
   ],
   "execution_count": 37
  },
  {
   "metadata": {
    "ExecuteTime": {
     "end_time": "2024-09-11T12:50:58.724495Z",
     "start_time": "2024-09-11T12:50:58.709495Z"
    }
   },
   "cell_type": "code",
   "source": "t4",
   "id": "eafb3256259d2c88",
   "outputs": [
    {
     "data": {
      "text/plain": [
       "tensor([[[ 0.,  1.,  2.,  3.],\n",
       "         [ 4.,  5.,  6.,  7.],\n",
       "         [ 8.,  9., 10., 11.]],\n",
       "\n",
       "        [[12., 13., 14., 15.],\n",
       "         [16., 17., 18., 19.],\n",
       "         [20., 21., 22., 23.]]])"
      ]
     },
     "execution_count": 38,
     "metadata": {},
     "output_type": "execute_result"
    }
   ],
   "execution_count": 38
  }
 ],
 "metadata": {
  "kernelspec": {
   "display_name": "Python 3",
   "language": "python",
   "name": "python3"
  },
  "language_info": {
   "codemirror_mode": {
    "name": "ipython",
    "version": 2
   },
   "file_extension": ".py",
   "mimetype": "text/x-python",
   "name": "python",
   "nbconvert_exporter": "python",
   "pygments_lexer": "ipython2",
   "version": "2.7.6"
  }
 },
 "nbformat": 4,
 "nbformat_minor": 5
}
